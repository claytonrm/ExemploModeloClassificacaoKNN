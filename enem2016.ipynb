{
 "cells": [
  {
   "cell_type": "markdown",
   "metadata": {},
   "source": [
    "# Ensaio dos dados das realizações da prova do ENEM em 2016"
   ]
  },
  {
   "cell_type": "code",
   "execution_count": 340,
   "metadata": {},
   "outputs": [],
   "source": [
    "# Carregando os módulos e pacotes\n",
    "import pandas as pd\n",
    "import numpy as np\n",
    "from sklearn.neighbors import KNeighborsClassifier\n",
    "from sklearn.model_selection import train_test_split\n",
    "from sklearn.metrics import confusion_matrix, accuracy_score\n",
    "from sklearn.multioutput import MultiOutputClassifier"
   ]
  },
  {
   "cell_type": "code",
   "execution_count": 341,
   "metadata": {
    "scrolled": true
   },
   "outputs": [
    {
     "data": {
      "text/html": [
       "<div>\n",
       "<style scoped>\n",
       "    .dataframe tbody tr th:only-of-type {\n",
       "        vertical-align: middle;\n",
       "    }\n",
       "\n",
       "    .dataframe tbody tr th {\n",
       "        vertical-align: top;\n",
       "    }\n",
       "\n",
       "    .dataframe thead th {\n",
       "        text-align: right;\n",
       "    }\n",
       "</style>\n",
       "<table border=\"1\" class=\"dataframe\">\n",
       "  <thead>\n",
       "    <tr style=\"text-align: right;\">\n",
       "      <th></th>\n",
       "      <th>NU_INSCRICAO</th>\n",
       "      <th>NU_ANO</th>\n",
       "      <th>CO_MUNICIPIO_RESIDENCIA</th>\n",
       "      <th>NO_MUNICIPIO_RESIDENCIA</th>\n",
       "      <th>CO_UF_RESIDENCIA</th>\n",
       "      <th>SG_UF_RESIDENCIA</th>\n",
       "      <th>NU_IDADE</th>\n",
       "      <th>TP_SEXO</th>\n",
       "      <th>TP_ESTADO_CIVIL</th>\n",
       "      <th>TP_COR_RACA</th>\n",
       "      <th>...</th>\n",
       "      <th>TX_RESPOSTAS_MT</th>\n",
       "      <th>TP_LINGUA</th>\n",
       "      <th>TP_STATUS_REDACAO</th>\n",
       "      <th>NU_NOTA_COMP1</th>\n",
       "      <th>NU_NOTA_COMP2</th>\n",
       "      <th>NU_NOTA_COMP3</th>\n",
       "      <th>NU_NOTA_COMP4</th>\n",
       "      <th>NU_NOTA_COMP5</th>\n",
       "      <th>NU_NOTA_REDACAO</th>\n",
       "      <th>IN_TREINEIRO</th>\n",
       "    </tr>\n",
       "  </thead>\n",
       "  <tbody>\n",
       "    <tr>\n",
       "      <th>1</th>\n",
       "      <td>ed50e8aaa58e7a806c337585efee9ca41f1eb1ad</td>\n",
       "      <td>2016</td>\n",
       "      <td>4314902</td>\n",
       "      <td>Porto Alegre</td>\n",
       "      <td>43</td>\n",
       "      <td>RS</td>\n",
       "      <td>24</td>\n",
       "      <td>M</td>\n",
       "      <td>0.0</td>\n",
       "      <td>1</td>\n",
       "      <td>...</td>\n",
       "      <td>AECCCBABDCADDBCBCCADADBBAADEBCEEBABCDDEAABCAA</td>\n",
       "      <td>1</td>\n",
       "      <td>1.0</td>\n",
       "      <td>120.0</td>\n",
       "      <td>120.0</td>\n",
       "      <td>120.0</td>\n",
       "      <td>80.0</td>\n",
       "      <td>80.0</td>\n",
       "      <td>520.0</td>\n",
       "      <td>0</td>\n",
       "    </tr>\n",
       "    <tr>\n",
       "      <th>2</th>\n",
       "      <td>2c3acac4b33ec2b195d77e7c04a2d75727fad723</td>\n",
       "      <td>2016</td>\n",
       "      <td>2304707</td>\n",
       "      <td>Granja</td>\n",
       "      <td>23</td>\n",
       "      <td>CE</td>\n",
       "      <td>17</td>\n",
       "      <td>F</td>\n",
       "      <td>0.0</td>\n",
       "      <td>3</td>\n",
       "      <td>...</td>\n",
       "      <td>AEDACBDECEDAEEAEDDEBDECDCECACADCACACAABDACEAB</td>\n",
       "      <td>1</td>\n",
       "      <td>1.0</td>\n",
       "      <td>140.0</td>\n",
       "      <td>120.0</td>\n",
       "      <td>120.0</td>\n",
       "      <td>120.0</td>\n",
       "      <td>80.0</td>\n",
       "      <td>580.0</td>\n",
       "      <td>0</td>\n",
       "    </tr>\n",
       "    <tr>\n",
       "      <th>3</th>\n",
       "      <td>f4545f8ccb9ff5c8aad7d32951b3f251a26e6568</td>\n",
       "      <td>2016</td>\n",
       "      <td>2304400</td>\n",
       "      <td>Fortaleza</td>\n",
       "      <td>23</td>\n",
       "      <td>CE</td>\n",
       "      <td>21</td>\n",
       "      <td>F</td>\n",
       "      <td>0.0</td>\n",
       "      <td>3</td>\n",
       "      <td>...</td>\n",
       "      <td>NaN</td>\n",
       "      <td>1</td>\n",
       "      <td>NaN</td>\n",
       "      <td>NaN</td>\n",
       "      <td>NaN</td>\n",
       "      <td>NaN</td>\n",
       "      <td>NaN</td>\n",
       "      <td>NaN</td>\n",
       "      <td>NaN</td>\n",
       "      <td>0</td>\n",
       "    </tr>\n",
       "    <tr>\n",
       "      <th>4</th>\n",
       "      <td>3d6ec248fef899c414e77f82d5c6d2bffbeaf7fe</td>\n",
       "      <td>2016</td>\n",
       "      <td>3304557</td>\n",
       "      <td>Rio de Janeiro</td>\n",
       "      <td>33</td>\n",
       "      <td>RJ</td>\n",
       "      <td>25</td>\n",
       "      <td>F</td>\n",
       "      <td>0.0</td>\n",
       "      <td>0</td>\n",
       "      <td>...</td>\n",
       "      <td>NaN</td>\n",
       "      <td>0</td>\n",
       "      <td>NaN</td>\n",
       "      <td>NaN</td>\n",
       "      <td>NaN</td>\n",
       "      <td>NaN</td>\n",
       "      <td>NaN</td>\n",
       "      <td>NaN</td>\n",
       "      <td>NaN</td>\n",
       "      <td>0</td>\n",
       "    </tr>\n",
       "    <tr>\n",
       "      <th>5</th>\n",
       "      <td>bf896ac8d3ecadd6dba1dfbf50110afcbf5d3268</td>\n",
       "      <td>2016</td>\n",
       "      <td>1302603</td>\n",
       "      <td>Manaus</td>\n",
       "      <td>13</td>\n",
       "      <td>AM</td>\n",
       "      <td>28</td>\n",
       "      <td>M</td>\n",
       "      <td>0.0</td>\n",
       "      <td>2</td>\n",
       "      <td>...</td>\n",
       "      <td>NaN</td>\n",
       "      <td>1</td>\n",
       "      <td>NaN</td>\n",
       "      <td>NaN</td>\n",
       "      <td>NaN</td>\n",
       "      <td>NaN</td>\n",
       "      <td>NaN</td>\n",
       "      <td>NaN</td>\n",
       "      <td>NaN</td>\n",
       "      <td>0</td>\n",
       "    </tr>\n",
       "  </tbody>\n",
       "</table>\n",
       "<p>5 rows × 108 columns</p>\n",
       "</div>"
      ],
      "text/plain": [
       "                               NU_INSCRICAO  NU_ANO  CO_MUNICIPIO_RESIDENCIA  \\\n",
       "1  ed50e8aaa58e7a806c337585efee9ca41f1eb1ad    2016                  4314902   \n",
       "2  2c3acac4b33ec2b195d77e7c04a2d75727fad723    2016                  2304707   \n",
       "3  f4545f8ccb9ff5c8aad7d32951b3f251a26e6568    2016                  2304400   \n",
       "4  3d6ec248fef899c414e77f82d5c6d2bffbeaf7fe    2016                  3304557   \n",
       "5  bf896ac8d3ecadd6dba1dfbf50110afcbf5d3268    2016                  1302603   \n",
       "\n",
       "  NO_MUNICIPIO_RESIDENCIA  CO_UF_RESIDENCIA SG_UF_RESIDENCIA  NU_IDADE  \\\n",
       "1            Porto Alegre                43               RS        24   \n",
       "2                  Granja                23               CE        17   \n",
       "3               Fortaleza                23               CE        21   \n",
       "4          Rio de Janeiro                33               RJ        25   \n",
       "5                  Manaus                13               AM        28   \n",
       "\n",
       "  TP_SEXO  TP_ESTADO_CIVIL  TP_COR_RACA  ...  \\\n",
       "1       M              0.0            1  ...   \n",
       "2       F              0.0            3  ...   \n",
       "3       F              0.0            3  ...   \n",
       "4       F              0.0            0  ...   \n",
       "5       M              0.0            2  ...   \n",
       "\n",
       "                                 TX_RESPOSTAS_MT  TP_LINGUA TP_STATUS_REDACAO  \\\n",
       "1  AECCCBABDCADDBCBCCADADBBAADEBCEEBABCDDEAABCAA          1               1.0   \n",
       "2  AEDACBDECEDAEEAEDDEBDECDCECACADCACACAABDACEAB          1               1.0   \n",
       "3                                            NaN          1               NaN   \n",
       "4                                            NaN          0               NaN   \n",
       "5                                            NaN          1               NaN   \n",
       "\n",
       "   NU_NOTA_COMP1 NU_NOTA_COMP2  NU_NOTA_COMP3  NU_NOTA_COMP4  NU_NOTA_COMP5  \\\n",
       "1          120.0         120.0          120.0           80.0           80.0   \n",
       "2          140.0         120.0          120.0          120.0           80.0   \n",
       "3            NaN           NaN            NaN            NaN            NaN   \n",
       "4            NaN           NaN            NaN            NaN            NaN   \n",
       "5            NaN           NaN            NaN            NaN            NaN   \n",
       "\n",
       "   NU_NOTA_REDACAO  IN_TREINEIRO  \n",
       "1            520.0             0  \n",
       "2            580.0             0  \n",
       "3              NaN             0  \n",
       "4              NaN             0  \n",
       "5              NaN             0  \n",
       "\n",
       "[5 rows x 108 columns]"
      ]
     },
     "execution_count": 341,
     "metadata": {},
     "output_type": "execute_result"
    }
   ],
   "source": [
    "# Carregando o dataset (para ver os detalhes de cada coluna basta abrir o arquivo Dicionário_Microdados_Enem_2016.xlsx)\n",
    "df = pd.read_csv('enem_2016.csv', sep=',', thousands='.', index_col=0)\n",
    "df.head()"
   ]
  },
  {
   "cell_type": "code",
   "execution_count": 342,
   "metadata": {},
   "outputs": [
    {
     "data": {
      "text/plain": [
       "(13730, 108)"
      ]
     },
     "execution_count": 342,
     "metadata": {},
     "output_type": "execute_result"
    }
   ],
   "source": [
    "df.shape"
   ]
  },
  {
   "cell_type": "markdown",
   "metadata": {},
   "source": [
    "## Pré-processamento "
   ]
  },
  {
   "cell_type": "code",
   "execution_count": 343,
   "metadata": {},
   "outputs": [
    {
     "data": {
      "text/plain": [
       "NU_INSCRICAO                       0\n",
       "NU_ANO                             0\n",
       "CO_MUNICIPIO_RESIDENCIA            0\n",
       "NO_MUNICIPIO_RESIDENCIA            0\n",
       "CO_UF_RESIDENCIA                   0\n",
       "SG_UF_RESIDENCIA                   0\n",
       "NU_IDADE                           0\n",
       "TP_SEXO                            0\n",
       "TP_ESTADO_CIVIL                  528\n",
       "TP_COR_RACA                        0\n",
       "TP_NACIONALIDADE                   0\n",
       "CO_MUNICIPIO_NASCIMENTO          609\n",
       "NO_MUNICIPIO_NASCIMENTO          609\n",
       "CO_UF_NASCIMENTO                 609\n",
       "SG_UF_NASCIMENTO                 609\n",
       "TP_ST_CONCLUSAO                    0\n",
       "TP_ANO_CONCLUIU                    0\n",
       "TP_ESCOLA                          0\n",
       "TP_ENSINO                       9448\n",
       "CO_ESCOLA                       9448\n",
       "CO_MUNICIPIO_ESC                9448\n",
       "NO_MUNICIPIO_ESC                9448\n",
       "CO_UF_ESC                       9448\n",
       "SG_UF_ESC                       9448\n",
       "TP_DEPENDENCIA_ADM_ESC          9448\n",
       "TP_LOCALIZACAO_ESC              9448\n",
       "TP_SIT_FUNC_ESC                 9448\n",
       "IN_BAIXA_VISAO                     0\n",
       "IN_CEGUEIRA                        0\n",
       "IN_SURDEZ                          0\n",
       "                               ...  \n",
       "IN_NOME_SOCIAL                     0\n",
       "IN_CERTIFICADO                     0\n",
       "NO_ENTIDADE_CERTIFICACAO       12092\n",
       "CO_UF_ENTIDADE_CERTIFICACAO    12092\n",
       "SG_UF_ENTIDADE_CERTIFICACAO    12092\n",
       "CO_MUNICIPIO_PROVA                 0\n",
       "NO_MUNICIPIO_PROVA                 0\n",
       "CO_UF_PROVA                        0\n",
       "SG_UF_PROVA                        0\n",
       "TP_PRESENCA_CN                     0\n",
       "TP_PRESENCA_CH                     0\n",
       "TP_PRESENCA_LC                     0\n",
       "TP_PRESENCA_MT                     0\n",
       "NU_NOTA_CN                      3389\n",
       "NU_NOTA_CH                      3389\n",
       "NU_NOTA_LC                      3597\n",
       "NU_NOTA_MT                      3597\n",
       "TX_RESPOSTAS_CN                 3389\n",
       "TX_RESPOSTAS_CH                 3389\n",
       "TX_RESPOSTAS_LC                 3597\n",
       "TX_RESPOSTAS_MT                 3597\n",
       "TP_LINGUA                          0\n",
       "TP_STATUS_REDACAO               3597\n",
       "NU_NOTA_COMP1                   3597\n",
       "NU_NOTA_COMP2                   3597\n",
       "NU_NOTA_COMP3                   3597\n",
       "NU_NOTA_COMP4                   3597\n",
       "NU_NOTA_COMP5                   3597\n",
       "NU_NOTA_REDACAO                 3597\n",
       "IN_TREINEIRO                       0\n",
       "Length: 108, dtype: int64"
      ]
     },
     "execution_count": 343,
     "metadata": {},
     "output_type": "execute_result"
    }
   ],
   "source": [
    "# Verificando a existência de dados missing\n",
    "df.isnull().sum()"
   ]
  },
  {
   "cell_type": "code",
   "execution_count": 344,
   "metadata": {},
   "outputs": [
    {
     "data": {
      "text/plain": [
       "(9781, 85)"
      ]
     },
     "execution_count": 344,
     "metadata": {},
     "output_type": "execute_result"
    }
   ],
   "source": [
    "# Eliminando colunas com muitos valores faltando\n",
    "df.drop(['NU_NOTA_COMP1', 'NU_NOTA_COMP2', 'NU_NOTA_COMP3', 'NU_NOTA_COMP4', 'NU_NOTA_COMP5', \n",
    "         'NU_NOTA_REDACAO', 'TP_STATUS_REDACAO', 'NO_ENTIDADE_CERTIFICACAO', 'CO_UF_ENTIDADE_CERTIFICACAO', \n",
    "         'SG_UF_ENTIDADE_CERTIFICACAO',\n",
    "         'TP_SIT_FUNC_ESC', 'TP_LOCALIZACAO_ESC', 'TP_DEPENDENCIA_ADM_ESC', 'SG_UF_ESC', \n",
    "         'CO_UF_ESC', 'NO_MUNICIPIO_ESC', 'CO_MUNICIPIO_ESC', 'CO_ESCOLA', 'TP_ENSINO', \n",
    "         'SG_UF_NASCIMENTO', 'CO_UF_NASCIMENTO', 'NO_MUNICIPIO_NASCIMENTO', 'CO_MUNICIPIO_NASCIMENTO'         \n",
    "        ], axis=1, inplace=True)\n",
    "\n",
    "# Eliminando os dados faltantes\n",
    "df.dropna(inplace=True)\n",
    "\n",
    "df.shape"
   ]
  },
  {
   "cell_type": "code",
   "execution_count": 345,
   "metadata": {},
   "outputs": [
    {
     "data": {
      "text/html": [
       "<div>\n",
       "<style scoped>\n",
       "    .dataframe tbody tr th:only-of-type {\n",
       "        vertical-align: middle;\n",
       "    }\n",
       "\n",
       "    .dataframe tbody tr th {\n",
       "        vertical-align: top;\n",
       "    }\n",
       "\n",
       "    .dataframe thead th {\n",
       "        text-align: right;\n",
       "    }\n",
       "</style>\n",
       "<table border=\"1\" class=\"dataframe\">\n",
       "  <thead>\n",
       "    <tr style=\"text-align: right;\">\n",
       "      <th></th>\n",
       "      <th>CO_MUNICIPIO_RESIDENCIA</th>\n",
       "      <th>NU_IDADE</th>\n",
       "      <th>TP_SEXO</th>\n",
       "      <th>TP_ESTADO_CIVIL</th>\n",
       "      <th>TP_COR_RACA</th>\n",
       "      <th>TP_NACIONALIDADE</th>\n",
       "      <th>TP_ST_CONCLUSAO</th>\n",
       "      <th>TP_ESCOLA</th>\n",
       "      <th>IN_CEGUEIRA</th>\n",
       "      <th>IN_SURDEZ</th>\n",
       "      <th>NU_NOTA_CN</th>\n",
       "      <th>NU_NOTA_CH</th>\n",
       "      <th>NU_NOTA_LC</th>\n",
       "      <th>NU_NOTA_MT</th>\n",
       "      <th>IN_TREINEIRO</th>\n",
       "    </tr>\n",
       "  </thead>\n",
       "  <tbody>\n",
       "    <tr>\n",
       "      <th>1</th>\n",
       "      <td>4314902</td>\n",
       "      <td>24</td>\n",
       "      <td>M</td>\n",
       "      <td>0.0</td>\n",
       "      <td>1</td>\n",
       "      <td>1</td>\n",
       "      <td>1</td>\n",
       "      <td>1</td>\n",
       "      <td>0</td>\n",
       "      <td>0</td>\n",
       "      <td>4363.0</td>\n",
       "      <td>4954.0</td>\n",
       "      <td>5812.0</td>\n",
       "      <td>3994.0</td>\n",
       "      <td>0</td>\n",
       "    </tr>\n",
       "    <tr>\n",
       "      <th>2</th>\n",
       "      <td>2304707</td>\n",
       "      <td>17</td>\n",
       "      <td>F</td>\n",
       "      <td>0.0</td>\n",
       "      <td>3</td>\n",
       "      <td>1</td>\n",
       "      <td>2</td>\n",
       "      <td>2</td>\n",
       "      <td>0</td>\n",
       "      <td>0</td>\n",
       "      <td>4745.0</td>\n",
       "      <td>5441.0</td>\n",
       "      <td>599.0</td>\n",
       "      <td>4598.0</td>\n",
       "      <td>0</td>\n",
       "    </tr>\n",
       "    <tr>\n",
       "      <th>6</th>\n",
       "      <td>2902005</td>\n",
       "      <td>18</td>\n",
       "      <td>F</td>\n",
       "      <td>0.0</td>\n",
       "      <td>1</td>\n",
       "      <td>1</td>\n",
       "      <td>1</td>\n",
       "      <td>1</td>\n",
       "      <td>0</td>\n",
       "      <td>0</td>\n",
       "      <td>4397.0</td>\n",
       "      <td>5832.0</td>\n",
       "      <td>4109.0</td>\n",
       "      <td>3645.0</td>\n",
       "      <td>0</td>\n",
       "    </tr>\n",
       "    <tr>\n",
       "      <th>7</th>\n",
       "      <td>5102637</td>\n",
       "      <td>18</td>\n",
       "      <td>F</td>\n",
       "      <td>0.0</td>\n",
       "      <td>3</td>\n",
       "      <td>1</td>\n",
       "      <td>2</td>\n",
       "      <td>2</td>\n",
       "      <td>0</td>\n",
       "      <td>0</td>\n",
       "      <td>4201.0</td>\n",
       "      <td>6042.0</td>\n",
       "      <td>4845.0</td>\n",
       "      <td>5292.0</td>\n",
       "      <td>0</td>\n",
       "    </tr>\n",
       "    <tr>\n",
       "      <th>8</th>\n",
       "      <td>4301602</td>\n",
       "      <td>18</td>\n",
       "      <td>F</td>\n",
       "      <td>0.0</td>\n",
       "      <td>1</td>\n",
       "      <td>1</td>\n",
       "      <td>1</td>\n",
       "      <td>1</td>\n",
       "      <td>0</td>\n",
       "      <td>0</td>\n",
       "      <td>6196.0</td>\n",
       "      <td>6258.0</td>\n",
       "      <td>6112.0</td>\n",
       "      <td>5667.0</td>\n",
       "      <td>0</td>\n",
       "    </tr>\n",
       "  </tbody>\n",
       "</table>\n",
       "</div>"
      ],
      "text/plain": [
       "   CO_MUNICIPIO_RESIDENCIA  NU_IDADE TP_SEXO  TP_ESTADO_CIVIL  TP_COR_RACA  \\\n",
       "1                  4314902        24       M              0.0            1   \n",
       "2                  2304707        17       F              0.0            3   \n",
       "6                  2902005        18       F              0.0            1   \n",
       "7                  5102637        18       F              0.0            3   \n",
       "8                  4301602        18       F              0.0            1   \n",
       "\n",
       "   TP_NACIONALIDADE  TP_ST_CONCLUSAO  TP_ESCOLA  IN_CEGUEIRA  IN_SURDEZ  \\\n",
       "1                 1                1          1            0          0   \n",
       "2                 1                2          2            0          0   \n",
       "6                 1                1          1            0          0   \n",
       "7                 1                2          2            0          0   \n",
       "8                 1                1          1            0          0   \n",
       "\n",
       "   NU_NOTA_CN  NU_NOTA_CH  NU_NOTA_LC  NU_NOTA_MT  IN_TREINEIRO  \n",
       "1      4363.0      4954.0      5812.0      3994.0             0  \n",
       "2      4745.0      5441.0       599.0      4598.0             0  \n",
       "6      4397.0      5832.0      4109.0      3645.0             0  \n",
       "7      4201.0      6042.0      4845.0      5292.0             0  \n",
       "8      6196.0      6258.0      6112.0      5667.0             0  "
      ]
     },
     "execution_count": 345,
     "metadata": {},
     "output_type": "execute_result"
    }
   ],
   "source": [
    "# Subconjunto do dataset\n",
    "enem = df[['CO_MUNICIPIO_RESIDENCIA', 'NU_IDADE', 'TP_SEXO', 'TP_ESTADO_CIVIL', 'TP_COR_RACA', 'TP_NACIONALIDADE', \n",
    "           'TP_ST_CONCLUSAO', 'TP_ESCOLA', 'IN_CEGUEIRA', 'IN_SURDEZ', 'NU_NOTA_CN', 'NU_NOTA_CH', \n",
    "           'NU_NOTA_LC', 'NU_NOTA_MT', 'IN_TREINEIRO']].copy()\n",
    "\n",
    "enem.head()"
   ]
  },
  {
   "cell_type": "code",
   "execution_count": 346,
   "metadata": {},
   "outputs": [
    {
     "data": {
      "text/plain": [
       "0    8309\n",
       "1    1472\n",
       "Name: IN_TREINEIRO, dtype: int64"
      ]
     },
     "execution_count": 346,
     "metadata": {},
     "output_type": "execute_result"
    }
   ],
   "source": [
    "enem['IN_TREINEIRO'].value_counts()"
   ]
  },
  {
   "cell_type": "code",
   "execution_count": 347,
   "metadata": {},
   "outputs": [
    {
     "data": {
      "text/plain": [
       "(9781, 15)"
      ]
     },
     "execution_count": 347,
     "metadata": {},
     "output_type": "execute_result"
    }
   ],
   "source": [
    "df = enem.copy()\n",
    "\n",
    "classes = np.array(enem.pop('IN_TREINEIRO'))\n",
    "\n",
    "# Transformando variáveis categóricas\n",
    "enem = pd.get_dummies(enem)\n",
    "enem.shape"
   ]
  },
  {
   "cell_type": "code",
   "execution_count": 348,
   "metadata": {
    "scrolled": true
   },
   "outputs": [
    {
     "data": {
      "text/plain": [
       "Index(['CO_MUNICIPIO_RESIDENCIA', 'NU_IDADE', 'TP_ESTADO_CIVIL', 'TP_COR_RACA',\n",
       "       'TP_NACIONALIDADE', 'TP_ST_CONCLUSAO', 'TP_ESCOLA', 'IN_CEGUEIRA',\n",
       "       'IN_SURDEZ', 'NU_NOTA_CN', 'NU_NOTA_CH', 'NU_NOTA_LC', 'NU_NOTA_MT',\n",
       "       'TP_SEXO_F', 'TP_SEXO_M'],\n",
       "      dtype='object')"
      ]
     },
     "execution_count": 348,
     "metadata": {},
     "output_type": "execute_result"
    }
   ],
   "source": [
    "enem.columns"
   ]
  },
  {
   "cell_type": "code",
   "execution_count": 349,
   "metadata": {},
   "outputs": [
    {
     "data": {
      "text/plain": [
       "((6846, 15), (2935, 15))"
      ]
     },
     "execution_count": 349,
     "metadata": {},
     "output_type": "execute_result"
    }
   ],
   "source": [
    "# Cria 30% em testes e os outros 70% em treinamento\n",
    "X_treinamento, X_teste, y_treinamento, y_teste = train_test_split(enem, classes,\n",
    "                                                                  test_size=0.3,\n",
    "                                                                  random_state=0)\n",
    "X_treinamento.shape, X_teste.shape"
   ]
  },
  {
   "cell_type": "markdown",
   "metadata": {},
   "source": [
    "## Criando o modelo "
   ]
  },
  {
   "cell_type": "code",
   "execution_count": 350,
   "metadata": {},
   "outputs": [
    {
     "data": {
      "text/plain": [
       "KNeighborsClassifier(algorithm='auto', leaf_size=30, metric='minkowski',\n",
       "                     metric_params=None, n_jobs=None, n_neighbors=5, p=2,\n",
       "                     weights='uniform')"
      ]
     },
     "execution_count": 350,
     "metadata": {},
     "output_type": "execute_result"
    }
   ],
   "source": [
    "# Criando o modelo com 3 clusters (grupos)\n",
    "knn = KNeighborsClassifier(n_neighbors=5)\n",
    "knn.fit(X_treinamento, y_treinamento)"
   ]
  },
  {
   "cell_type": "code",
   "execution_count": 351,
   "metadata": {},
   "outputs": [],
   "source": [
    "previsoes = knn.predict(X_teste)\n",
    "confusao = confusion_matrix(previsoes, y_teste)"
   ]
  },
  {
   "cell_type": "code",
   "execution_count": 352,
   "metadata": {},
   "outputs": [],
   "source": [
    "# Calculando a taxa de acerto\n",
    "taxa_acerto = accuracy_score(y_teste, previsoes)"
   ]
  },
  {
   "cell_type": "code",
   "execution_count": 353,
   "metadata": {},
   "outputs": [],
   "source": [
    "# Calculando taxa de erro\n",
    "taxa_erro = 1 - taxa_acerto"
   ]
  },
  {
   "cell_type": "code",
   "execution_count": 354,
   "metadata": {},
   "outputs": [
    {
     "data": {
      "text/plain": [
       "(array([[2380,  416],\n",
       "        [  93,   46]], dtype=int64), 0.8265758091993186, 0.1734241908006814)"
      ]
     },
     "execution_count": 354,
     "metadata": {},
     "output_type": "execute_result"
    }
   ],
   "source": [
    "confusao, taxa_acerto, taxa_erro"
   ]
  },
  {
   "cell_type": "code",
   "execution_count": 355,
   "metadata": {
    "scrolled": true
   },
   "outputs": [
    {
     "name": "stdout",
     "output_type": "stream",
     "text": [
      "              precision    recall  f1-score   support\n",
      "\n",
      "           0       0.85      0.96      0.90      2473\n",
      "           1       0.33      0.10      0.15       462\n",
      "\n",
      "    accuracy                           0.83      2935\n",
      "   macro avg       0.59      0.53      0.53      2935\n",
      "weighted avg       0.77      0.83      0.79      2935\n",
      "\n"
     ]
    }
   ],
   "source": [
    "from sklearn.metrics import classification_report\n",
    "\n",
    "nome_classes=list(np.unique(classes))\n",
    "\n",
    "print(classification_report(y_teste, previsoes, labels=nome_classes))\n",
    "\n",
    "# Boas métricas porém pra classe oposta (IN_TREINEIRO = 0, não é o objetivo)"
   ]
  },
  {
   "cell_type": "markdown",
   "metadata": {},
   "source": [
    "## Criando modelo v2"
   ]
  },
  {
   "cell_type": "code",
   "execution_count": 356,
   "metadata": {},
   "outputs": [],
   "source": [
    "# Equalizando o número de amostras da classe com menor registros (Up-sample)\n",
    "dados_maior = df[df['IN_TREINEIRO'] == 0]\n",
    "dados_menor = df[df['IN_TREINEIRO'] == 1]\n"
   ]
  },
  {
   "cell_type": "code",
   "execution_count": 357,
   "metadata": {},
   "outputs": [],
   "source": [
    "from sklearn.utils import resample\n",
    "dados_menor_up = resample(dados_menor, \n",
    "                          replace=True,     \n",
    "                          n_samples=7500,    \n",
    "                          random_state=123) \n",
    "\n",
    "dados_up = pd.concat([dados_maior, dados_menor_up])"
   ]
  },
  {
   "cell_type": "code",
   "execution_count": 358,
   "metadata": {},
   "outputs": [
    {
     "data": {
      "text/plain": [
       "0    8309\n",
       "1    7500\n",
       "Name: IN_TREINEIRO, dtype: int64"
      ]
     },
     "execution_count": 358,
     "metadata": {},
     "output_type": "execute_result"
    }
   ],
   "source": [
    "dados_up['IN_TREINEIRO'].value_counts()"
   ]
  },
  {
   "cell_type": "markdown",
   "metadata": {},
   "source": [
    "### Modelo v2"
   ]
  },
  {
   "cell_type": "code",
   "execution_count": 359,
   "metadata": {},
   "outputs": [],
   "source": [
    "classes2 = np.array(dados_up.pop('IN_TREINEIRO'))"
   ]
  },
  {
   "cell_type": "code",
   "execution_count": 360,
   "metadata": {},
   "outputs": [
    {
     "data": {
      "text/plain": [
       "((11066, 15), (4743, 15))"
      ]
     },
     "execution_count": 360,
     "metadata": {},
     "output_type": "execute_result"
    }
   ],
   "source": [
    "dados_up = pd.get_dummies(dados_up)\n",
    "\n",
    "X_treinamento2, X_teste2, y_treinamento2, y_teste2 = train_test_split(dados_up, classes2,\n",
    "                                                                      test_size=0.3,\n",
    "                                                                      random_state=0)\n",
    "X_treinamento2.shape, X_teste2.shape"
   ]
  },
  {
   "cell_type": "code",
   "execution_count": 361,
   "metadata": {},
   "outputs": [
    {
     "data": {
      "text/plain": [
       "KNeighborsClassifier(algorithm='auto', leaf_size=30, metric='minkowski',\n",
       "                     metric_params=None, n_jobs=None, n_neighbors=5, p=2,\n",
       "                     weights='uniform')"
      ]
     },
     "execution_count": 361,
     "metadata": {},
     "output_type": "execute_result"
    }
   ],
   "source": [
    "knn2 = KNeighborsClassifier(n_neighbors=5)\n",
    "knn2.fit(X_treinamento2, y_treinamento2)"
   ]
  },
  {
   "cell_type": "code",
   "execution_count": 362,
   "metadata": {},
   "outputs": [],
   "source": [
    "previsoes2 = knn.predict(X_teste2)"
   ]
  },
  {
   "cell_type": "code",
   "execution_count": 363,
   "metadata": {},
   "outputs": [
    {
     "data": {
      "text/plain": [
       "(array([[2406, 1865],\n",
       "        [  72,  400]], dtype=int64), 0.5916086864853468, 0.4083913135146532)"
      ]
     },
     "execution_count": 363,
     "metadata": {},
     "output_type": "execute_result"
    }
   ],
   "source": [
    "confusao2 = confusion_matrix(previsoes2, y_teste2)\n",
    "taxa_acerto2 = accuracy_score(y_teste2, previsoes2)\n",
    "taxa_erro2 = 1 - taxa_acerto2\n",
    "\n",
    "confusao2, taxa_acerto2, taxa_erro2"
   ]
  },
  {
   "cell_type": "code",
   "execution_count": 364,
   "metadata": {},
   "outputs": [
    {
     "name": "stdout",
     "output_type": "stream",
     "text": [
      "              precision    recall  f1-score   support\n",
      "\n",
      "           0       0.56      0.97      0.71      2478\n",
      "           1       0.85      0.18      0.29      2265\n",
      "\n",
      "    accuracy                           0.59      4743\n",
      "   macro avg       0.71      0.57      0.50      4743\n",
      "weighted avg       0.70      0.59      0.51      4743\n",
      "\n"
     ]
    }
   ],
   "source": [
    "print(classification_report(y_teste2, previsoes2, labels=nome_classes))"
   ]
  },
  {
   "cell_type": "markdown",
   "metadata": {},
   "source": [
    "# Criando modelo v3"
   ]
  },
  {
   "cell_type": "code",
   "execution_count": 365,
   "metadata": {},
   "outputs": [],
   "source": [
    "# Equalizando o número de amostras da classe com maior registros (Down-sample)\n",
    "dados_maior_down = resample(dados_maior, \n",
    "                            replace=False,     \n",
    "                            n_samples=1250,    \n",
    "                            random_state=123) \n",
    "\n",
    "dados_down = pd.concat([dados_maior_down, dados_menor])"
   ]
  },
  {
   "cell_type": "code",
   "execution_count": 366,
   "metadata": {},
   "outputs": [
    {
     "data": {
      "text/plain": [
       "1    1472\n",
       "0    1250\n",
       "Name: IN_TREINEIRO, dtype: int64"
      ]
     },
     "execution_count": 366,
     "metadata": {},
     "output_type": "execute_result"
    }
   ],
   "source": [
    "dados_down['IN_TREINEIRO'].value_counts()"
   ]
  },
  {
   "cell_type": "markdown",
   "metadata": {},
   "source": [
    "### Modelo v3"
   ]
  },
  {
   "cell_type": "code",
   "execution_count": 367,
   "metadata": {},
   "outputs": [],
   "source": [
    "classes3 = np.array(dados_down.pop('IN_TREINEIRO'))"
   ]
  },
  {
   "cell_type": "code",
   "execution_count": 368,
   "metadata": {},
   "outputs": [
    {
     "data": {
      "text/plain": [
       "((1905, 15), (817, 15))"
      ]
     },
     "execution_count": 368,
     "metadata": {},
     "output_type": "execute_result"
    }
   ],
   "source": [
    "dados_down = pd.get_dummies(dados_down)\n",
    "\n",
    "X_treinamento3, X_teste3, y_treinamento3, y_teste3 = train_test_split(dados_down, classes3,\n",
    "                                                                      test_size=0.3,\n",
    "                                                                      random_state=0)\n",
    "X_treinamento3.shape, X_teste3.shape"
   ]
  },
  {
   "cell_type": "code",
   "execution_count": 369,
   "metadata": {},
   "outputs": [
    {
     "data": {
      "text/plain": [
       "KNeighborsClassifier(algorithm='auto', leaf_size=30, metric='minkowski',\n",
       "                     metric_params=None, n_jobs=None, n_neighbors=5, p=2,\n",
       "                     weights='uniform')"
      ]
     },
     "execution_count": 369,
     "metadata": {},
     "output_type": "execute_result"
    }
   ],
   "source": [
    "knn3 = KNeighborsClassifier(n_neighbors=5)\n",
    "knn3.fit(X_treinamento3, y_treinamento3)"
   ]
  },
  {
   "cell_type": "code",
   "execution_count": 370,
   "metadata": {},
   "outputs": [],
   "source": [
    "previsoes3 = knn.predict(X_teste3)"
   ]
  },
  {
   "cell_type": "code",
   "execution_count": 371,
   "metadata": {},
   "outputs": [
    {
     "data": {
      "text/plain": [
       "(array([[375, 363],\n",
       "        [  7,  72]], dtype=int64), 0.5471236230110159, 0.4528763769889841)"
      ]
     },
     "execution_count": 371,
     "metadata": {},
     "output_type": "execute_result"
    }
   ],
   "source": [
    "confusao3 = confusion_matrix(previsoes3, y_teste3)\n",
    "taxa_acerto3 = accuracy_score(y_teste3, previsoes3)\n",
    "taxa_erro3 = 1 - taxa_acerto3\n",
    "\n",
    "confusao3, taxa_acerto3, taxa_erro3"
   ]
  },
  {
   "cell_type": "code",
   "execution_count": 372,
   "metadata": {},
   "outputs": [
    {
     "name": "stdout",
     "output_type": "stream",
     "text": [
      "              precision    recall  f1-score   support\n",
      "\n",
      "           0       0.51      0.98      0.67       382\n",
      "           1       0.91      0.17      0.28       435\n",
      "\n",
      "    accuracy                           0.55       817\n",
      "   macro avg       0.71      0.57      0.47       817\n",
      "weighted avg       0.72      0.55      0.46       817\n",
      "\n"
     ]
    }
   ],
   "source": [
    "print(classification_report(y_teste3, previsoes3, labels=nome_classes))"
   ]
  },
  {
   "cell_type": "code",
   "execution_count": null,
   "metadata": {},
   "outputs": [],
   "source": []
  }
 ],
 "metadata": {
  "kernelspec": {
   "display_name": "Python 3",
   "language": "python",
   "name": "python3"
  },
  "language_info": {
   "codemirror_mode": {
    "name": "ipython",
    "version": 3
   },
   "file_extension": ".py",
   "mimetype": "text/x-python",
   "name": "python",
   "nbconvert_exporter": "python",
   "pygments_lexer": "ipython3",
   "version": "3.7.2"
  }
 },
 "nbformat": 4,
 "nbformat_minor": 2
}
